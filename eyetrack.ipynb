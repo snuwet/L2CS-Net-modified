{
 "cells": [
  {
   "cell_type": "code",
   "execution_count": 1,
   "metadata": {},
   "outputs": [
    {
     "name": "stderr",
     "output_type": "stream",
     "text": [
      "c:\\Users\\wnsdh\\Desktop\\Lab\\vision\\L2CS-Net-main\\l2cs\\pipeline.py:34: FutureWarning: You are using `torch.load` with `weights_only=False` (the current default value), which uses the default pickle module implicitly. It is possible to construct malicious pickle data which will execute arbitrary code during unpickling (See https://github.com/pytorch/pytorch/blob/main/SECURITY.md#untrusted-models for more details). In a future release, the default value for `weights_only` will be flipped to `True`. This limits the functions that could be executed during unpickling. Arbitrary objects will no longer be allowed to be loaded via this mode unless they are explicitly allowlisted by the user via `torch.serialization.add_safe_globals`. We recommend you start setting `weights_only=True` for any use case where you don't have full control of the loaded file. Please open an issue on GitHub for any issues related to this experimental feature.\n",
      "  self.model.load_state_dict(torch.load(self.weights, map_location=device))\n",
      "C:\\Users\\wnsdh\\AppData\\Local\\Packages\\PythonSoftwareFoundation.Python.3.10_qbz5n2kfra8p0\\LocalCache\\local-packages\\Python310\\site-packages\\face_detection\\alignment.py:438: FutureWarning: You are using `torch.load` with `weights_only=False` (the current default value), which uses the default pickle module implicitly. It is possible to construct malicious pickle data which will execute arbitrary code during unpickling (See https://github.com/pytorch/pytorch/blob/main/SECURITY.md#untrusted-models for more details). In a future release, the default value for `weights_only` will be flipped to `True`. This limits the functions that could be executed during unpickling. Arbitrary objects will no longer be allowed to be loaded via this mode unless they are explicitly allowlisted by the user via `torch.serialization.add_safe_globals`. We recommend you start setting `weights_only=True` for any use case where you don't have full control of the loaded file. Please open an issue on GitHub for any issues related to this experimental feature.\n",
      "  pretrained_dict = torch.load(\n"
     ]
    },
    {
     "name": "stdout",
     "output_type": "stream",
     "text": [
      "C:/Users/wnsdh/Downloads/3교시\\1\\webcam_record_241226-1117.mp4\n"
     ]
    },
    {
     "name": "stderr",
     "output_type": "stream",
     "text": [
      "검출률: 85.9%: 100%|██████████| 13007/13007 [03:55<00:00, 55.15it/s] \n"
     ]
    },
    {
     "name": "stdout",
     "output_type": "stream",
     "text": [
      "C:/Users/wnsdh/Downloads/3교시\\1\\webcam_record_241226-1139.mp4\n"
     ]
    },
    {
     "name": "stderr",
     "output_type": "stream",
     "text": [
      "검출률: 91.0%: 100%|██████████| 19418/19418 [05:22<00:00, 60.24it/s]\n"
     ]
    },
    {
     "name": "stdout",
     "output_type": "stream",
     "text": [
      "C:/Users/wnsdh/Downloads/3교시\\10_30906\\webcam_record_241226-1115.mp4\n"
     ]
    },
    {
     "name": "stderr",
     "output_type": "stream",
     "text": [
      "검출률: 62.3%: 100%|██████████| 18855/18855 [07:14<00:00, 43.35it/s] \n"
     ]
    },
    {
     "name": "stdout",
     "output_type": "stream",
     "text": [
      "C:/Users/wnsdh/Downloads/3교시\\10_30906\\webcam_record_241226-1138.mp4\n"
     ]
    },
    {
     "name": "stderr",
     "output_type": "stream",
     "text": [
      "검출률: 77.2%: 100%|██████████| 30660/30660 [09:05<00:00, 56.21it/s] \n"
     ]
    },
    {
     "name": "stdout",
     "output_type": "stream",
     "text": [
      "C:/Users/wnsdh/Downloads/3교시\\11_30914\\webcam_record_241226-1112.mp4\n"
     ]
    },
    {
     "name": "stderr",
     "output_type": "stream",
     "text": [
      "검출률: 78.7%: 100%|██████████| 10870/10870 [02:26<00:00, 74.41it/s]\n"
     ]
    },
    {
     "name": "stdout",
     "output_type": "stream",
     "text": [
      "C:/Users/wnsdh/Downloads/3교시\\11_30914\\webcam_record_241226-1135.mp4\n"
     ]
    },
    {
     "name": "stderr",
     "output_type": "stream",
     "text": [
      "검출률: 66.2%: 100%|██████████| 19257/19257 [07:51<00:00, 40.85it/s]\n"
     ]
    },
    {
     "name": "stdout",
     "output_type": "stream",
     "text": [
      "C:/Users/wnsdh/Downloads/3교시\\12_30910\\webcam_record_241226-1113.mp4\n"
     ]
    },
    {
     "name": "stderr",
     "output_type": "stream",
     "text": [
      "검출률: 58.6%: 100%|██████████| 8997/8997 [04:14<00:00, 35.32it/s]\n"
     ]
    },
    {
     "name": "stdout",
     "output_type": "stream",
     "text": [
      "C:/Users/wnsdh/Downloads/3교시\\12_30910\\webcam_record_241226-1136.mp4\n"
     ]
    },
    {
     "name": "stderr",
     "output_type": "stream",
     "text": [
      "검출률: 51.2%: 100%|██████████| 17045/17045 [04:41<00:00, 60.59it/s] \n"
     ]
    },
    {
     "name": "stdout",
     "output_type": "stream",
     "text": [
      "C:/Users/wnsdh/Downloads/3교시\\13_30904\\webcam_record_241226-1114.mp4\n"
     ]
    },
    {
     "name": "stderr",
     "output_type": "stream",
     "text": [
      "검출률: 79.4%:   1%|          | 128/16397 [00:01<02:54, 93.35it/s]"
     ]
    },
    {
     "name": "stdout",
     "output_type": "stream",
     "text": [
      "list index out of range\n"
     ]
    },
    {
     "name": "stderr",
     "output_type": "stream",
     "text": [
      "검출률: 52.0%: 100%|██████████| 16397/16397 [03:22<00:00, 81.06it/s] \n"
     ]
    },
    {
     "name": "stdout",
     "output_type": "stream",
     "text": [
      "C:/Users/wnsdh/Downloads/3교시\\13_30904\\webcam_record_241226-1146.mp4\n"
     ]
    },
    {
     "name": "stderr",
     "output_type": "stream",
     "text": [
      "검출률: 75.3%: 100%|██████████| 44297/44297 [14:01<00:00, 52.62it/s] \n"
     ]
    },
    {
     "name": "stdout",
     "output_type": "stream",
     "text": [
      "C:/Users/wnsdh/Downloads/3교시\\14_30909\\webcam_record_241226-1107.mp4\n"
     ]
    },
    {
     "name": "stderr",
     "output_type": "stream",
     "text": [
      "검출률: 96.6%: 100%|██████████| 1365/1365 [00:18<00:00, 74.11it/s]\n"
     ]
    },
    {
     "name": "stdout",
     "output_type": "stream",
     "text": [
      "C:/Users/wnsdh/Downloads/3교시\\14_30909\\webcam_record_241226-1117.mp4\n"
     ]
    },
    {
     "name": "stderr",
     "output_type": "stream",
     "text": [
      "검출률: 92.5%: 100%|██████████| 10301/10301 [02:31<00:00, 68.21it/s] \n"
     ]
    },
    {
     "name": "stdout",
     "output_type": "stream",
     "text": [
      "C:/Users/wnsdh/Downloads/3교시\\14_30909\\webcam_record_241226-1147.mp4\n"
     ]
    },
    {
     "name": "stderr",
     "output_type": "stream",
     "text": [
      "검출률: 86.1%: 100%|██████████| 27077/27077 [08:19<00:00, 54.23it/s]\n"
     ]
    },
    {
     "name": "stdout",
     "output_type": "stream",
     "text": [
      "C:/Users/wnsdh/Downloads/3교시\\15\\webcam_record_241226-1102.mp4\n"
     ]
    },
    {
     "name": "stderr",
     "output_type": "stream",
     "text": [
      "검출률: 99.2%: 100%|██████████| 795/795 [00:28<00:00, 28.14it/s]\n"
     ]
    },
    {
     "name": "stdout",
     "output_type": "stream",
     "text": [
      "C:/Users/wnsdh/Downloads/3교시\\15\\webcam_record_241226-1116.mp4\n"
     ]
    },
    {
     "name": "stderr",
     "output_type": "stream",
     "text": [
      "검출률: 99.2%: 100%|██████████| 23292/23292 [15:10<00:00, 25.57it/s]\n"
     ]
    },
    {
     "name": "stdout",
     "output_type": "stream",
     "text": [
      "C:/Users/wnsdh/Downloads/3교시\\15\\webcam_record_241226-1134.mp4\n"
     ]
    },
    {
     "name": "stderr",
     "output_type": "stream",
     "text": [
      "검출률: 99.3%: 100%|██████████| 18583/18583 [11:43<00:00, 26.41it/s]\n"
     ]
    },
    {
     "name": "stdout",
     "output_type": "stream",
     "text": [
      "C:/Users/wnsdh/Downloads/3교시\\2\\webcam_record_241226-1118.mp4\n"
     ]
    },
    {
     "name": "stderr",
     "output_type": "stream",
     "text": [
      "검출률: 97.2%: 100%|██████████| 21784/21784 [14:13<00:00, 25.53it/s]\n"
     ]
    },
    {
     "name": "stdout",
     "output_type": "stream",
     "text": [
      "C:/Users/wnsdh/Downloads/3교시\\2\\webcam_record_241226-1141.mp4\n"
     ]
    },
    {
     "name": "stderr",
     "output_type": "stream",
     "text": [
      "검출률: 87.2%: 100%|██████████| 24682/24682 [13:25<00:00, 30.65it/s]\n"
     ]
    },
    {
     "name": "stdout",
     "output_type": "stream",
     "text": [
      "C:/Users/wnsdh/Downloads/3교시\\21\\webcam_record_241226-1107.mp4\n"
     ]
    },
    {
     "name": "stderr",
     "output_type": "stream",
     "text": [
      "검출률: 93.8%: 100%|██████████| 866/866 [00:29<00:00, 29.46it/s]\n"
     ]
    },
    {
     "name": "stdout",
     "output_type": "stream",
     "text": [
      "C:/Users/wnsdh/Downloads/3교시\\21\\webcam_record_241226-1116.mp4\n"
     ]
    },
    {
     "name": "stderr",
     "output_type": "stream",
     "text": [
      "검출률: 77.2%: 100%|██████████| 15721/15721 [08:11<00:00, 31.96it/s] \n"
     ]
    },
    {
     "name": "stdout",
     "output_type": "stream",
     "text": [
      "C:/Users/wnsdh/Downloads/3교시\\21\\webcam_record_241226-1136.mp4\n"
     ]
    },
    {
     "name": "stderr",
     "output_type": "stream",
     "text": [
      "검출률: 75.1%: 100%|██████████| 14622/14622 [03:18<00:00, 73.68it/s] \n"
     ]
    },
    {
     "name": "stdout",
     "output_type": "stream",
     "text": [
      "C:/Users/wnsdh/Downloads/3교시\\22\\webcam_record_241226-1116.mp4\n"
     ]
    },
    {
     "name": "stderr",
     "output_type": "stream",
     "text": [
      "검출률: 66.0%: 100%|██████████| 12586/12586 [02:39<00:00, 79.01it/s] \n"
     ]
    },
    {
     "name": "stdout",
     "output_type": "stream",
     "text": [
      "C:/Users/wnsdh/Downloads/3교시\\22\\webcam_record_241226-1141.mp4\n"
     ]
    },
    {
     "name": "stderr",
     "output_type": "stream",
     "text": [
      "검출률: 69.8%: 100%|██████████| 22626/22626 [05:04<00:00, 74.29it/s] \n"
     ]
    },
    {
     "name": "stdout",
     "output_type": "stream",
     "text": [
      "C:/Users/wnsdh/Downloads/3교시\\23\\webcam_record_241226-1116.mp4\n"
     ]
    },
    {
     "name": "stderr",
     "output_type": "stream",
     "text": [
      "검출률: 63.3%: 100%|██████████| 19895/19895 [04:17<00:00, 77.36it/s] \n"
     ]
    },
    {
     "name": "stdout",
     "output_type": "stream",
     "text": [
      "C:/Users/wnsdh/Downloads/3교시\\23\\webcam_record_241226-1143.mp4\n"
     ]
    },
    {
     "name": "stderr",
     "output_type": "stream",
     "text": [
      "검출률: 89.5%: 100%|██████████| 38466/38466 [10:12<00:00, 62.80it/s]\n"
     ]
    },
    {
     "name": "stdout",
     "output_type": "stream",
     "text": [
      "C:/Users/wnsdh/Downloads/3교시\\24_30923\\webcam_record_241226-1106.mp4\n"
     ]
    },
    {
     "name": "stderr",
     "output_type": "stream",
     "text": [
      "검출률: 87.2%: 100%|██████████| 1371/1371 [00:17<00:00, 80.50it/s]\n"
     ]
    },
    {
     "name": "stdout",
     "output_type": "stream",
     "text": [
      "C:/Users/wnsdh/Downloads/3교시\\24_30923\\webcam_record_241226-1116.mp4\n"
     ]
    },
    {
     "name": "stderr",
     "output_type": "stream",
     "text": [
      "검출률: 98.3%: 100%|██████████| 16884/16884 [04:04<00:00, 69.05it/s]\n"
     ]
    },
    {
     "name": "stdout",
     "output_type": "stream",
     "text": [
      "C:/Users/wnsdh/Downloads/3교시\\24_30923\\webcam_record_241226-1145.mp4\n"
     ]
    },
    {
     "name": "stderr",
     "output_type": "stream",
     "text": [
      "검출률: 98.7%: 100%|██████████| 43249/43249 [11:52<00:00, 60.71it/s]\n"
     ]
    },
    {
     "name": "stdout",
     "output_type": "stream",
     "text": [
      "C:/Users/wnsdh/Downloads/3교시\\3\\webcam_record_241226-1119 (1).mp4\n"
     ]
    },
    {
     "name": "stderr",
     "output_type": "stream",
     "text": [
      "검출률: 48.1%: 100%|██████████| 16151/16151 [03:04<00:00, 87.48it/s] \n"
     ]
    },
    {
     "name": "stdout",
     "output_type": "stream",
     "text": [
      "C:/Users/wnsdh/Downloads/3교시\\3\\webcam_record_241226-1119.mp4\n"
     ]
    },
    {
     "name": "stderr",
     "output_type": "stream",
     "text": [
      "검출률: 48.1%: 100%|██████████| 16151/16151 [03:08<00:00, 85.56it/s] \n"
     ]
    },
    {
     "name": "stdout",
     "output_type": "stream",
     "text": [
      "C:/Users/wnsdh/Downloads/3교시\\3\\webcam_record_241226-1144.mp4\n"
     ]
    },
    {
     "name": "stderr",
     "output_type": "stream",
     "text": [
      "검출률: 70.6%: 100%|██████████| 26846/26846 [06:15<00:00, 71.45it/s] \n"
     ]
    },
    {
     "name": "stdout",
     "output_type": "stream",
     "text": [
      "C:/Users/wnsdh/Downloads/3교시\\5\\webcam_record_241226-1118.mp4\n"
     ]
    },
    {
     "name": "stderr",
     "output_type": "stream",
     "text": [
      "검출률: 73.7%: 100%|██████████| 13248/13248 [02:47<00:00, 78.90it/s] \n"
     ]
    },
    {
     "name": "stdout",
     "output_type": "stream",
     "text": [
      "C:/Users/wnsdh/Downloads/3교시\\6\\webcam_record_241226-1116.mp4\n"
     ]
    },
    {
     "name": "stderr",
     "output_type": "stream",
     "text": [
      "검출률: 38.3%: 100%|██████████| 11475/11475 [02:05<00:00, 91.79it/s] \n"
     ]
    },
    {
     "name": "stdout",
     "output_type": "stream",
     "text": [
      "C:/Users/wnsdh/Downloads/3교시\\6\\webcam_record_241226-1143.mp4\n"
     ]
    },
    {
     "name": "stderr",
     "output_type": "stream",
     "text": [
      "검출률: 60.6%: 100%|██████████| 24238/24238 [05:18<00:00, 76.03it/s] \n"
     ]
    },
    {
     "name": "stdout",
     "output_type": "stream",
     "text": [
      "C:/Users/wnsdh/Downloads/3교시\\9_30908\\webcam_record_241226-1117.mp4\n"
     ]
    },
    {
     "name": "stderr",
     "output_type": "stream",
     "text": [
      "검출률: 24.0%: 100%|██████████| 13027/13027 [02:11<00:00, 99.32it/s] \n"
     ]
    },
    {
     "name": "stdout",
     "output_type": "stream",
     "text": [
      "C:/Users/wnsdh/Downloads/3교시\\9_30908\\webcam_record_241226-1138.mp4\n"
     ]
    },
    {
     "name": "stderr",
     "output_type": "stream",
     "text": [
      "검출률: 59.9%: 100%|██████████| 19096/19096 [03:57<00:00, 80.47it/s] \n"
     ]
    }
   ],
   "source": [
    "import glob\n",
    "import cv2\n",
    "import torch\n",
    "import torch.backends.cudnn as cudnn\n",
    "from l2cs import select_device, Pipeline, render\n",
    "import time, pickle\n",
    "import pathlib\n",
    "from tqdm import tqdm\n",
    "import numpy as np\n",
    "\n",
    "CWD = pathlib.Path.cwd()\n",
    "path = 'C:/Users/wnsdh/Downloads/3교시'\n",
    "webcam_records = glob.glob(path + '/*/webcam_record_*.mp4')\n",
    "\n",
    "# 시선 추적을 위한 파이프라인 초기화\n",
    "gaze_pipeline = Pipeline(\n",
    "    weights=CWD / 'models' / 'L2CSNet_gaze360.pkl',\n",
    "    arch='ResNet50',\n",
    "    device=torch.device('cuda')\n",
    ")\n",
    "\n",
    "BATCH_SIZE = 32  # 배치 크기 설정\n",
    "\n",
    "for webcam_record in webcam_records:\n",
    "    print(webcam_record)\n",
    "    \n",
    "    gazeData = []  # 시선 데이터를 저장할 리스트\n",
    "    frame_buffer = []  # 프레임을 모아둘 버퍼\n",
    "    timestamp_buffer = []  # 타임스탬프를 모아둘 버퍼\n",
    "    \n",
    "    cap = cv2.VideoCapture(webcam_record)\n",
    "    total_frames = int(cap.get(cv2.CAP_PROP_FRAME_COUNT))\n",
    "    \n",
    "    with torch.no_grad():\n",
    "        pbar = tqdm(range(total_frames))\n",
    "        for _ in pbar:\n",
    "            success, frame = cap.read()\n",
    "            if not success:\n",
    "                break\n",
    "                \n",
    "            timestamp = cap.get(cv2.CAP_PROP_POS_MSEC) / 1000\n",
    "            frame_buffer.append(frame)\n",
    "            timestamp_buffer.append(timestamp)\n",
    "            \n",
    "            # 버퍼가 배치 크기만큼 찼거나 마지막 프레임일 때 처리\n",
    "            if len(frame_buffer) >= BATCH_SIZE or _ == total_frames - 1:\n",
    "                # 배치 처리\n",
    "                try:\n",
    "                    frame_batch = np.stack(frame_buffer)\n",
    "                    results_batch = gaze_pipeline.step_batch(frame_batch)\n",
    "                    for timestamp, results in zip(timestamp_buffer, results_batch):\n",
    "                        gazeData.append((timestamp, results))\n",
    "                except Exception as e:\n",
    "                    print(e)\n",
    "                \n",
    "                # 버퍼 초기화\n",
    "                frame_buffer = []\n",
    "                timestamp_buffer = []\n",
    "            \n",
    "            # 검출률 표시 업데이트\n",
    "            detection_rate = len([g for g in gazeData if g[1].pitch.size > 0]) / (len(gazeData)+1) * 100\n",
    "            pbar.set_description(f\"검출률: {detection_rate:.1f}%\")\n",
    "    \n",
    "    cap.release()\n",
    "    pickle.dump(gazeData, open(webcam_record.replace('.mp4', '.pkl').replace('webcam_record_', 'gaze_data_'), 'wb'))"
   ]
  }
 ],
 "metadata": {
  "kernelspec": {
   "display_name": "Python 3",
   "language": "python",
   "name": "python3"
  },
  "language_info": {
   "codemirror_mode": {
    "name": "ipython",
    "version": 3
   },
   "file_extension": ".py",
   "mimetype": "text/x-python",
   "name": "python",
   "nbconvert_exporter": "python",
   "pygments_lexer": "ipython3",
   "version": "3.10.11"
  }
 },
 "nbformat": 4,
 "nbformat_minor": 2
}
